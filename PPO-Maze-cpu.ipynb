{
 "cells": [
  {
   "cell_type": "code",
   "execution_count": 5,
   "id": "protected-income",
   "metadata": {},
   "outputs": [],
   "source": [
    "#https://blog.csdn.net/fangchenglia/article/details/125725093\n",
    "import torch\n",
    "import torch.nn as nn\n",
    "import torch.nn.functional as F\n",
    "import numpy as np\n",
    "import gym\n",
    "from matplotlib import pyplot as plt\n",
    "import os\n",
    "from MazeEnv import MazeEnv\n",
    "os.environ['KMP_DUPLICATE_LIB_OK'] = 'TRUE'\n",
    "# env = gym.make('Pendulum-v1').unwrapped\n",
    "env = MazeEnv(5, 5)\n",
    "\n",
    "\n",
    "'''Pendulum环境状态特征是三个，杆子的sin(角度)、cos（角度）、角速度，（状态是无限多个，因为连续），动作值是力矩，限定在[-2,2]之间的任意的小数，所以是连续的（动作也是无限个）'''\n",
    "# state_number=env.observation_space.shape[0]\n",
    "# action_number=env.action_space.shape[0]\n",
    "# max_action = env.action_space.high[0]\n",
    "# min_action = env.action_space.low[0]\n",
    "\n",
    "state_number = env.get_n_states()\n",
    "action_number = env.get_n_actions()\n",
    "max_action = 0.99999\n",
    "min_action = -0.99999\n",
    "\n",
    "torch.manual_seed(0)#如果你觉得定了随机种子不能表达代码的泛化能力，你可以把这两行注释掉\n",
    "# env.seed(0) \n",
    "RENDER=False\n",
    "ITER_MAX = 200\n",
    "EP_MAX = 500\n",
    "EP_LEN = 40\n",
    "GAMMA = 0.99\n",
    "A_LR = 0.0001\n",
    "C_LR = 0.0003\n",
    "BATCH = 128\n",
    "A_UPDATE_STEPS = 10\n",
    "C_UPDATE_STEPS = 10\n",
    "METHOD = [\n",
    "    dict(name='kl_pen', kl_target=0.01, lam=0.5),   # KL penalty\n",
    "    dict(name='clip', epsilon=0.2),                 # Clipped surrogate objective, find this is better\n",
    "][1]        # choose the method for optimization\n",
    "Switch=0\n",
    "'''由于PPO也是基于A-C框架，所以我把PPO的编写分为两部分，PPO的第一部分 Actor'''\n",
    "'''PPO的第一步  编写A-C框架的网络，先编写actor部分的actor网络，actor的网络有新与老两个网络'''\n",
    "\n",
    "class ActorNet(nn.Module):\n",
    "    def __init__(self, input_dim, output_dim, hidden_dim=256):\n",
    "        super(ActorNet, self).__init__()\n",
    "        self.fc1 = nn.Linear(input_dim, hidden_dim)\n",
    "        self.fc2 = nn.Linear(hidden_dim, hidden_dim)\n",
    "        self.fc3_1 = nn.Linear(hidden_dim, output_dim)\n",
    "        self.fc3_2 = nn.Linear(hidden_dim, output_dim)\n",
    "    def forward(self,x):\n",
    "        x = F.relu(self.fc1(x))\n",
    "        x = F.relu(self.fc2(x))        \n",
    "        mean=torch.tanh(self.fc3_1(x))#输出概率分布的均值mean-1~1   TODO\n",
    "        std=F.softplus(self.fc3_2(x))#softplus激活函数的值域>0\n",
    "        return mean, std\n",
    "    \n",
    "class CriticNet(nn.Module):\n",
    "    def __init__(self,input_dim,output_dim,hidden_dim=256):\n",
    "        super(CriticNet,self).__init__()\n",
    "        assert output_dim == 1 # critic must output a single value\n",
    "        self.fc1 = nn.Linear(input_dim, hidden_dim)\n",
    "        self.fc2 = nn.Linear(hidden_dim, hidden_dim)\n",
    "        self.fc3 = nn.Linear(hidden_dim, output_dim)\n",
    "    def forward(self,x):\n",
    "        x = F.relu(self.fc1(x))\n",
    "        x = F.relu(self.fc2(x))\n",
    "        value = self.fc3(x)\n",
    "        return value \n",
    "    \n",
    "class Actor():\n",
    "    def __init__(self):\n",
    "        self.old_pi,self.new_pi=ActorNet(state_number,action_number),ActorNet(state_number,action_number)#这只是均值mean\n",
    "        self.optimizer=torch.optim.Adam(self.new_pi.parameters(),lr=A_LR,eps=1e-5)\n",
    "    '''第二步 编写根据状态选择动作的函数'''\n",
    "    def choose_action(self,s):\n",
    "        inputstate = torch.FloatTensor(s)\n",
    "        mean,std=self.old_pi(inputstate)\n",
    "        dist = torch.distributions.Normal(mean, std)\n",
    "        action=dist.sample()\n",
    "        action=torch.clamp(action,min_action,max_action)\n",
    "        action_logprob=dist.log_prob(action) # \n",
    "        return action.detach().numpy(),action_logprob.detach().numpy()\n",
    "    \n",
    "    def choose_action2(self,s):\n",
    "        inputstate = torch.FloatTensor(s)\n",
    "        mean,std=self.old_pi(inputstate) # TODO\n",
    "        print(mean, std)\n",
    "        dist = torch.distributions.Normal(mean, std)\n",
    "        action=mean\n",
    "        action=torch.clamp(action,min_action,max_action)\n",
    "        action_logprob=dist.log_prob(action)\n",
    "        return action.detach().numpy(),action_logprob.detach().numpy()\n",
    "    \n",
    "    '''第四步  actor网络有两个策略（更新old策略）————————把new策略的参数赋给old策略'''\n",
    "    def update_oldpi(self):\n",
    "        self.old_pi.load_state_dict(self.new_pi.state_dict())\n",
    "    '''第六步 编写actor网络的学习函数，采用PPO2，即OpenAI推出的clip形式公式'''\n",
    "    def learn(self,bs,ba,adv,bap): #buffer_s, buffer_a, advantage, buffer_a_logp\n",
    "        bs = torch.FloatTensor(bs)\n",
    "        ba = torch.FloatTensor(ba)\n",
    "        adv = torch.FloatTensor(adv)\n",
    "        bap = torch.FloatTensor(bap)\n",
    "        for _ in range(A_UPDATE_STEPS):\n",
    "            mean, std = self.new_pi(bs)\n",
    "            dist_new=torch.distributions.Normal(mean, std)\n",
    "            action_new_logprob=dist_new.log_prob(ba)\n",
    "            ratio=torch.exp(action_new_logprob - bap.detach())\n",
    "            surr1 = ratio * adv\n",
    "            surr2 = torch.clamp(ratio, 1 - METHOD['epsilon'], 1 + METHOD['epsilon']) * adv\n",
    "            loss = -torch.min(surr1, surr2)\n",
    "            loss=loss.mean()\n",
    "            self.optimizer.zero_grad()\n",
    "            loss.backward()\n",
    "            nn.utils.clip_grad_norm_(self.new_pi.parameters(), 0.5)\n",
    "            self.optimizer.step()\n",
    "class Critic():\n",
    "    def __init__(self):\n",
    "        self.critic_v=CriticNet(state_number,1) #改网络输入状态，生成一个V值\n",
    "        self.optimizer = torch.optim.Adam(self.critic_v.parameters(), lr=C_LR,eps=1e-5)\n",
    "        self.lossfunc = nn.MSELoss()\n",
    "    '''第三步  编写评定动作价值的函数'''\n",
    "    def get_v(self,s):\n",
    "        inputstate = torch.FloatTensor(s)\n",
    "        return self.critic_v(inputstate)\n",
    "    '''第五步  计算优势——————advantage，后面发现第五步计算出来的adv可以与第七步合为一体，所以这里的代码注释了，但是，计算优势依然算是可以单独拎出来的一个步骤'''\n",
    "    # def get_adv(self,bs,br):\n",
    "    #     reality_v=torch.FloatTensor(br)\n",
    "    #     v=self.get_v(bs)\n",
    "    #     adv=(reality_v-v).detach()\n",
    "    #     return adv\n",
    "    '''第七步  编写actor-critic的critic部分的learn函数，td-error的计算代码（V现实减去V估计就是td-error）'''\n",
    "    def learn(self,bs,br):\n",
    "        bs = torch.FloatTensor(bs)\n",
    "        reality_v = torch.FloatTensor(br)\n",
    "        for _ in range(C_UPDATE_STEPS):\n",
    "            v=self.get_v(bs)\n",
    "            td_e = self.lossfunc(reality_v, v)\n",
    "            self.optimizer.zero_grad()\n",
    "            td_e.backward()\n",
    "            nn.utils.clip_grad_norm_(self.critic_v.parameters(), 0.5) #是否需要需要考虑\n",
    "            self.optimizer.step()\n",
    "        return (reality_v-v).detach()\n",
    "        \n",
    "def train():\n",
    "    print('PPO2训练中...')\n",
    "    actor=Actor()\n",
    "    critic=Critic()\n",
    "    \n",
    "    all_ep_r = []\n",
    "    for iteration in range(ITER_MAX): # iteration\n",
    "        b_s, b_a, b_r,b_a_logp, d_r = [], [], [], [], []\n",
    "        reward_totle=0\n",
    "        done_totle=0\n",
    "        for episode in range(EP_MAX):\n",
    "            done = False\n",
    "            buffer_s, buffer_a, buffer_r, buffer_a_logp , discounted_r= [], [], [],[], []\n",
    "            observation = env.reset() #环境重置\n",
    "            \n",
    "            for timestep in range(EP_LEN):\n",
    "                if RENDER:\n",
    "                    env.render()\n",
    "                action,action_logprob=actor.choose_action(observation)    \n",
    "                \n",
    "                observation_, reward, done, info = env.step(action)\n",
    "                buffer_s.append(observation)\n",
    "                buffer_a.append(action)\n",
    "                buffer_r.append(reward)\n",
    "                buffer_a_logp.append(action_logprob)\n",
    "                \n",
    "                observation=observation_\n",
    "                reward_totle+=reward  \n",
    "                                \n",
    "                # if(done or (observation_ in buffer_s)):\n",
    "                if(done):\n",
    "                    # print(done_totle)\n",
    "                    done_totle += 1\n",
    "                    break\n",
    "                    \n",
    "            if(done):\n",
    "                v_observation_ = torch.tensor([1e-8])\n",
    "            else:\n",
    "                v_observation_ = critic.get_v(observation_)\n",
    "            # print(v_observation_ , reward,  GAMMA)\n",
    "            for reward in buffer_r[::-1]:\n",
    "                v_observation_ = reward + GAMMA * v_observation_\n",
    "                discounted_r.append(v_observation_.detach().numpy())   # 没有转成A\n",
    "            discounted_r.reverse()\n",
    "            b_s += buffer_s\n",
    "            b_a += buffer_a\n",
    "            b_r += buffer_r\n",
    "            b_a_logp += buffer_a_logp\n",
    "            d_r += discounted_r\n",
    "            \n",
    "        d_r = torch.tensor(d_r, dtype=torch.float32)\n",
    "        d_r = (d_r - d_r.mean()) / (d_r.std() + 1e-5) \n",
    "        bs, ba, dr, bap = np.vstack(b_s), np.vstack(b_a), np.array(d_r),np.vstack(b_a_logp)\n",
    "\n",
    "        for _ in range(10):\n",
    "            msk = np.random.rand(len(bs)) < 0.2\n",
    "            \n",
    "            advantage=critic.learn(bs[msk],dr[msk])#critic部分更新\n",
    "            actor.learn(bs[msk],ba[msk],advantage,bap[msk])#actor部分更新\n",
    "            \n",
    "        actor.update_oldpi()  # pi-new的参数赋给pi-old\n",
    "        # critic.learn(bs,br)\n",
    "            \n",
    "            \n",
    "        if iteration == 0:\n",
    "            all_ep_r.append(reward_totle)\n",
    "        else:\n",
    "            all_ep_r.append(all_ep_r[-1] * 0.9 + reward_totle * 0.1)\n",
    "            \n",
    "        print(\"\\rIter: {} |rewards: {} | dones: {}\".format(iteration, round(reward_totle/EP_MAX,4), round(done_totle/EP_MAX,4)), end=\"\\n\")\n",
    "        #保存神经网络参数\n",
    "        if iteration % 10 == 0 and iteration > 1:#保存神经网络参数\n",
    "            save_data = {'net': actor.old_pi.state_dict(), 'opt': actor.optimizer.state_dict(), 'i': episode}\n",
    "            torch.save(save_data, \"./model/PPO2_model_actor.pth\")\n",
    "            save_data = {'net': critic.critic_v.state_dict(), 'opt': critic.optimizer.state_dict(), 'i': episode}\n",
    "            torch.save(save_data, \"./model/PPO2_model_critic.pth\")\n",
    "    \n",
    "    env.close()\n",
    "    plt.plot(np.arange(len(all_ep_r)), all_ep_r)\n",
    "    plt.xlabel('Episode')\n",
    "    plt.ylabel('Moving averaged episode reward')\n",
    "    plt.show()\n",
    "\n",
    "def test(num):\n",
    "    print('PPO2测试中...')\n",
    "    aa=Actor()\n",
    "    cc=Critic()\n",
    "    checkpoint_aa = torch.load(\"./model/PPO2_model_actor.pth\")\n",
    "    aa.old_pi.load_state_dict(checkpoint_aa['net'])\n",
    "    checkpoint_cc = torch.load(\"./model/PPO2_model_critic.pth\")\n",
    "    cc.critic_v.load_state_dict(checkpoint_cc['net'])\n",
    "    for j in range(num):\n",
    "        state = env.reset()\n",
    "        total_rewards = 0\n",
    "\n",
    "        for timestep in range(EP_LEN):\n",
    "            # env.render()\n",
    "            env.draw_maze()\n",
    "            action, action_logprob = aa.choose_action(state)\n",
    "            # env.show_action(action)\n",
    "            new_state, reward, done, info = env.step(action)  # 执行动作\n",
    "            total_rewards += reward\n",
    "            state = new_state\n",
    "            if(done):\n",
    "                break\n",
    "        print(f\"Score：{round(total_rewards,2)}, {done}\")\n",
    "    env.close()"
   ]
  },
  {
   "cell_type": "code",
   "execution_count": 6,
   "id": "medical-trinidad",
   "metadata": {},
   "outputs": [
    {
     "name": "stdout",
     "output_type": "stream",
     "text": [
      "PPO2训练中...\n",
      "Iter: 0 |rewards: -15.3855 | dones: 0.01\n",
      "Iter: 1 |rewards: -12.4134 | dones: 0.044\n",
      "Iter: 2 |rewards: -11.7577 | dones: 0.022\n",
      "Iter: 3 |rewards: -9.5887 | dones: 0.028\n",
      "Iter: 4 |rewards: -8.323 | dones: 0.022\n",
      "Iter: 5 |rewards: -6.5005 | dones: 0.02\n",
      "Iter: 10 |rewards: -2.9649 | dones: 0.044\n",
      "Iter: 11 |rewards: -2.2168 | dones: 0.048\n",
      "Iter: 12 |rewards: -2.2169 | dones: 0.036\n",
      "Iter: 13 |rewards: -2.0129 | dones: 0.044\n",
      "Iter: 14 |rewards: -1.8219 | dones: 0.05\n",
      "Iter: 15 |rewards: -1.5839 | dones: 0.058\n",
      "Iter: 16 |rewards: -0.7853 | dones: 0.058\n",
      "Iter: 17 |rewards: -0.4805 | dones: 0.044\n",
      "Iter: 18 |rewards: -0.1754 | dones: 0.074\n",
      "Iter: 19 |rewards: -0.7223 | dones: 0.046\n",
      "Iter: 20 |rewards: -0.3448 | dones: 0.06\n",
      "Iter: 21 |rewards: 0.3391 | dones: 0.076\n",
      "Iter: 22 |rewards: 0.9403 | dones: 0.07\n",
      "Iter: 23 |rewards: 1.2312 | dones: 0.098\n",
      "Iter: 24 |rewards: 0.5849 | dones: 0.056\n",
      "Iter: 25 |rewards: 1.2334 | dones: 0.082\n",
      "Iter: 26 |rewards: 1.2344 | dones: 0.064\n",
      "Iter: 27 |rewards: 1.3388 | dones: 0.108\n",
      "Iter: 28 |rewards: 1.732 | dones: 0.088\n",
      "Iter: 29 |rewards: 1.8944 | dones: 0.102\n",
      "Iter: 30 |rewards: 1.9927 | dones: 0.098\n",
      "Iter: 31 |rewards: 2.0332 | dones: 0.112\n",
      "Iter: 32 |rewards: 1.6885 | dones: 0.1\n",
      "Iter: 33 |rewards: 1.7061 | dones: 0.098\n",
      "Iter: 34 |rewards: 2.2006 | dones: 0.106\n",
      "Iter: 35 |rewards: 2.5271 | dones: 0.104\n",
      "Iter: 36 |rewards: 2.5606 | dones: 0.114\n",
      "Iter: 37 |rewards: 2.9192 | dones: 0.138\n",
      "Iter: 38 |rewards: 3.1827 | dones: 0.144\n",
      "Iter: 39 |rewards: 3.3039 | dones: 0.132\n",
      "Iter: 40 |rewards: 3.3131 | dones: 0.152\n",
      "Iter: 41 |rewards: 3.5261 | dones: 0.128\n",
      "Iter: 42 |rewards: 3.9933 | dones: 0.136\n",
      "Iter: 43 |rewards: 4.4547 | dones: 0.156\n",
      "Iter: 44 |rewards: 4.6674 | dones: 0.19\n",
      "Iter: 45 |rewards: 4.3776 | dones: 0.156\n",
      "Iter: 46 |rewards: 4.6136 | dones: 0.19\n",
      "Iter: 47 |rewards: 5.6636 | dones: 0.2\n",
      "Iter: 48 |rewards: 5.0275 | dones: 0.196\n",
      "Iter: 49 |rewards: 5.5033 | dones: 0.2\n",
      "Iter: 50 |rewards: 5.5014 | dones: 0.22\n",
      "Iter: 51 |rewards: 5.828 | dones: 0.196\n",
      "Iter: 52 |rewards: 6.0302 | dones: 0.234\n",
      "Iter: 53 |rewards: 5.154 | dones: 0.214\n",
      "Iter: 54 |rewards: 6.8399 | dones: 0.276\n",
      "Iter: 55 |rewards: 7.1283 | dones: 0.25\n",
      "Iter: 56 |rewards: 7.3839 | dones: 0.294\n",
      "Iter: 57 |rewards: 7.5942 | dones: 0.292\n",
      "Iter: 58 |rewards: 7.7911 | dones: 0.318\n",
      "Iter: 59 |rewards: 7.963 | dones: 0.328\n",
      "Iter: 60 |rewards: 7.9877 | dones: 0.336\n",
      "Iter: 61 |rewards: 8.0194 | dones: 0.338\n",
      "Iter: 67 |rewards: 9.1934 | dones: 0.386\n",
      "Iter: 68 |rewards: 9.9258 | dones: 0.44\n",
      "Iter: 69 |rewards: 9.7441 | dones: 0.42\n",
      "Iter: 70 |rewards: 9.9274 | dones: 0.452\n",
      "Iter: 71 |rewards: 10.463 | dones: 0.436\n",
      "Iter: 72 |rewards: 9.9393 | dones: 0.44\n",
      "Iter: 73 |rewards: 10.1033 | dones: 0.43\n",
      "Iter: 74 |rewards: 9.5188 | dones: 0.432\n",
      "Iter: 75 |rewards: 9.7317 | dones: 0.45\n",
      "Iter: 76 |rewards: 10.3232 | dones: 0.466\n",
      "Iter: 77 |rewards: 10.2871 | dones: 0.44\n",
      "Iter: 78 |rewards: 11.007 | dones: 0.48\n",
      "Iter: 79 |rewards: 10.9527 | dones: 0.48\n",
      "Iter: 80 |rewards: 10.5943 | dones: 0.472\n",
      "Iter: 81 |rewards: 10.6016 | dones: 0.476\n",
      "Iter: 82 |rewards: 10.7519 | dones: 0.502\n",
      "Iter: 83 |rewards: 10.9686 | dones: 0.486\n",
      "Iter: 84 |rewards: 11.3573 | dones: 0.504\n",
      "Iter: 85 |rewards: 11.3167 | dones: 0.496\n",
      "Iter: 86 |rewards: 11.553 | dones: 0.494\n",
      "Iter: 87 |rewards: 12.0427 | dones: 0.53\n",
      "Iter: 88 |rewards: 10.9688 | dones: 0.474\n",
      "Iter: 89 |rewards: 12.355 | dones: 0.55\n",
      "Iter: 90 |rewards: 12.1727 | dones: 0.498\n",
      "Iter: 91 |rewards: 11.2803 | dones: 0.532\n",
      "Iter: 92 |rewards: 12.1866 | dones: 0.564\n",
      "Iter: 93 |rewards: 11.8374 | dones: 0.514\n",
      "Iter: 94 |rewards: 12.0183 | dones: 0.526\n",
      "Iter: 95 |rewards: 12.8339 | dones: 0.578\n",
      "Iter: 96 |rewards: 12.6539 | dones: 0.576\n",
      "Iter: 97 |rewards: 12.6642 | dones: 0.582\n",
      "Iter: 98 |rewards: 12.4717 | dones: 0.572\n",
      "Iter: 99 |rewards: 11.9754 | dones: 0.566\n",
      "Iter: 100 |rewards: 12.7925 | dones: 0.568\n",
      "Iter: 101 |rewards: 11.8538 | dones: 0.544\n",
      "Iter: 102 |rewards: 12.8641 | dones: 0.568\n",
      "Iter: 103 |rewards: 12.5784 | dones: 0.582\n",
      "Iter: 104 |rewards: 12.918 | dones: 0.576\n",
      "Iter: 105 |rewards: 12.7837 | dones: 0.606\n",
      "Iter: 106 |rewards: 12.7489 | dones: 0.604\n",
      "Iter: 107 |rewards: 12.8852 | dones: 0.618\n",
      "Iter: 108 |rewards: 12.9705 | dones: 0.612\n",
      "Iter: 109 |rewards: 12.1785 | dones: 0.59\n",
      "Iter: 110 |rewards: 13.6523 | dones: 0.608\n",
      "Iter: 111 |rewards: 13.4449 | dones: 0.642\n",
      "Iter: 112 |rewards: 13.6777 | dones: 0.644\n",
      "Iter: 113 |rewards: 13.4359 | dones: 0.656\n",
      "Iter: 114 |rewards: 12.8414 | dones: 0.626\n",
      "Iter: 115 |rewards: 13.2612 | dones: 0.622\n",
      "Iter: 116 |rewards: 13.143 | dones: 0.626\n",
      "Iter: 117 |rewards: 12.5676 | dones: 0.586\n",
      "Iter: 118 |rewards: 13.4222 | dones: 0.622\n",
      "Iter: 119 |rewards: 12.8326 | dones: 0.62\n",
      "Iter: 120 |rewards: 14.201 | dones: 0.682\n",
      "Iter: 121 |rewards: 13.2696 | dones: 0.632\n",
      "Iter: 122 |rewards: 14.6611 | dones: 0.682\n",
      "Iter: 123 |rewards: 13.6956 | dones: 0.632\n",
      "Iter: 124 |rewards: 14.2098 | dones: 0.654\n",
      "Iter: 125 |rewards: 14.1312 | dones: 0.664\n",
      "Iter: 126 |rewards: 13.8062 | dones: 0.646\n",
      "Iter: 127 |rewards: 13.3635 | dones: 0.642\n",
      "Iter: 128 |rewards: 13.4324 | dones: 0.632\n",
      "Iter: 129 |rewards: 13.678 | dones: 0.662\n",
      "Iter: 130 |rewards: 13.4572 | dones: 0.658\n",
      "Iter: 131 |rewards: 13.9056 | dones: 0.668\n",
      "Iter: 132 |rewards: 13.3141 | dones: 0.622\n",
      "Iter: 133 |rewards: 14.1329 | dones: 0.676\n",
      "Iter: 134 |rewards: 13.8354 | dones: 0.632\n",
      "Iter: 135 |rewards: 12.8791 | dones: 0.628\n",
      "Iter: 136 |rewards: 13.6211 | dones: 0.65\n",
      "Iter: 137 |rewards: 14.2285 | dones: 0.668\n",
      "Iter: 138 |rewards: 13.3722 | dones: 0.64\n",
      "Iter: 139 |rewards: 14.415 | dones: 0.69\n",
      "Iter: 140 |rewards: 15.0817 | dones: 0.69\n",
      "Iter: 141 |rewards: 15.2946 | dones: 0.706\n",
      "Iter: 142 |rewards: 13.7408 | dones: 0.66\n",
      "Iter: 153 |rewards: 14.2142 | dones: 0.672\n",
      "Iter: 154 |rewards: 14.1465 | dones: 0.666\n",
      "Iter: 155 |rewards: 15.1568 | dones: 0.674\n",
      "Iter: 156 |rewards: 14.4874 | dones: 0.688\n",
      "Iter: 157 |rewards: 15.5148 | dones: 0.742\n",
      "Iter: 158 |rewards: 16.0002 | dones: 0.738\n",
      "Iter: 159 |rewards: 14.6692 | dones: 0.702\n",
      "Iter: 160 |rewards: 15.0247 | dones: 0.72\n",
      "Iter: 161 |rewards: 14.7419 | dones: 0.706\n",
      "Iter: 162 |rewards: 15.388 | dones: 0.716\n",
      "Iter: 163 |rewards: 14.2052 | dones: 0.706\n",
      "Iter: 164 |rewards: 15.5841 | dones: 0.724\n",
      "Iter: 165 |rewards: 15.5701 | dones: 0.7\n",
      "Iter: 166 |rewards: 15.4993 | dones: 0.736\n",
      "Iter: 167 |rewards: 15.9999 | dones: 0.746\n",
      "Iter: 168 |rewards: 16.0046 | dones: 0.742\n",
      "Iter: 169 |rewards: 15.1568 | dones: 0.738\n",
      "Iter: 170 |rewards: 15.8004 | dones: 0.736\n",
      "Iter: 171 |rewards: 15.2624 | dones: 0.718\n",
      "Iter: 172 |rewards: 15.1021 | dones: 0.716\n",
      "Iter: 173 |rewards: 15.6132 | dones: 0.736\n",
      "Iter: 174 |rewards: 15.8714 | dones: 0.748\n",
      "Iter: 175 |rewards: 15.4129 | dones: 0.74\n",
      "Iter: 176 |rewards: 15.2282 | dones: 0.722\n",
      "Iter: 177 |rewards: 14.4937 | dones: 0.704\n",
      "Iter: 178 |rewards: 15.601 | dones: 0.728\n",
      "Iter: 179 |rewards: 14.5992 | dones: 0.68\n",
      "Iter: 180 |rewards: 15.3382 | dones: 0.758\n",
      "Iter: 181 |rewards: 15.8334 | dones: 0.766\n",
      "Iter: 182 |rewards: 15.7802 | dones: 0.76\n",
      "Iter: 183 |rewards: 15.8247 | dones: 0.716\n",
      "Iter: 184 |rewards: 16.0656 | dones: 0.758\n",
      "Iter: 185 |rewards: 15.4144 | dones: 0.734\n",
      "Iter: 186 |rewards: 16.0332 | dones: 0.74\n",
      "Iter: 187 |rewards: 16.0404 | dones: 0.768\n",
      "Iter: 188 |rewards: 16.4673 | dones: 0.778\n",
      "Iter: 189 |rewards: 16.2694 | dones: 0.78\n",
      "Iter: 190 |rewards: 15.8128 | dones: 0.748\n",
      "Iter: 191 |rewards: 15.478 | dones: 0.758\n",
      "Iter: 192 |rewards: 16.261 | dones: 0.772\n",
      "Iter: 193 |rewards: 15.6651 | dones: 0.756\n",
      "Iter: 194 |rewards: 15.8309 | dones: 0.754\n",
      "Iter: 195 |rewards: 16.217 | dones: 0.758\n",
      "Iter: 196 |rewards: 15.5756 | dones: 0.744\n",
      "Iter: 197 |rewards: 17.6343 | dones: 0.816\n",
      "Iter: 198 |rewards: 16.6734 | dones: 0.792\n",
      "Iter: 199 |rewards: 16.028 | dones: 0.82\n"
     ]
    },
    {
     "data": {
      "image/png": "[encoded data removed]",
      "text/plain": [
       "<Figure size 432x288 with 1 Axes>"
      ]
     },
     "metadata": {
      "needs_background": "light"
     },
     "output_type": "display_data"
    }
   ],
   "source": [
    "train()"
   ]
  },
  {
   "cell_type": "code",
   "execution_count": 23,
   "id": "soviet-engineering",
   "metadata": {},
   "outputs": [
    {
     "name": "stdout",
     "output_type": "stream",
     "text": [
      "PPO2测试中...\n"
     ]
    },
    {
     "data": {
      "image/png": "[encoded data removed]",
      "text/plain": [
       "<Figure size 432x288 with 1 Axes>"
      ]
     },
     "metadata": {
      "needs_background": "light"
     },
     "output_type": "display_data"
    },
    {
     "data": {
      "image/png": "[encoded data removed]",
      "text/plain": [
       "<Figure size 432x288 with 1 Axes>"
      ]
     },
     "metadata": {
      "needs_background": "light"
     },
     "output_type": "display_data"
    },
    {
     "data": {
      "image/png": "[encoded data removed]",
      "text/plain": [
       "<Figure size 432x288 with 1 Axes>"
      ]
     },
     "metadata": {
      "needs_background": "light"
     },
     "output_type": "display_data"
    },
    {
     "data": {
      "image/png": "[encoded data removed]",
      "text/plain": [
       "<Figure size 432x288 with 1 Axes>"
      ]
     },
     "metadata": {
      "needs_background": "light"
     },
     "output_type": "display_data"
    },
    {
     "data": {
      "image/png": "[encoded data removed]",
      "text/plain": [
       "<Figure size 432x288 with 1 Axes>"
      ]
     },
     "metadata": {
      "needs_background": "light"
     },
     "output_type": "display_data"
    },
    {
     "data": {
      "image/png": "[encoded data removed]",
      "text/plain": [
       "<Figure size 432x288 with 1 Axes>"
      ]
     },
     "metadata": {
      "needs_background": "light"
     },
     "output_type": "display_data"
    },
    {
     "data": {
      "image/png": "[encoded data removed]",
      "text/plain": [
       "<Figure size 432x288 with 1 Axes>"
      ]
     },
     "metadata": {
      "needs_background": "light"
     },
     "output_type": "display_data"
    },
    {
     "data": {
      "image/png": "[encoded data removed]",
      "text/plain": [
       "<Figure size 432x288 with 1 Axes>"
      ]
     },
     "metadata": {
      "needs_background": "light"
     },
     "output_type": "display_data"
    },
    {
     "data": {
      "image/png": "[encoded data removed]",
      "text/plain": [
       "<Figure size 432x288 with 1 Axes>"
      ]
     },
     "metadata": {
      "needs_background": "light"
     },
     "output_type": "display_data"
    },
    {
     "data": {
      "image/png": "[encoded data removed]",
      "text/plain": [
       "<Figure size 432x288 with 1 Axes>"
      ]
     },
     "metadata": {
      "needs_background": "light"
     },
     "output_type": "display_data"
    },
    {
     "data": {
      "image/png": "[encoded data removed]",
      "text/plain": [
       "<Figure size 432x288 with 1 Axes>"
      ]
     },
     "metadata": {
      "needs_background": "light"
     },
     "output_type": "display_data"
    },
    {
     "data": {
      "image/png": "[encoded data removed]",
      "text/plain": [
       "<Figure size 432x288 with 1 Axes>"
      ]
     },
     "metadata": {
      "needs_background": "light"
     },
     "output_type": "display_data"
    },
    {
     "data": {
      "image/png": "[encoded data removed]",
      "text/plain": [
       "<Figure size 432x288 with 1 Axes>"
      ]
     },
     "metadata": {
      "needs_background": "light"
     },
     "output_type": "display_data"
    },
    {
     "data": {
      "image/png": "[encoded data removed]",
      "text/plain": [
       "<Figure size 432x288 with 1 Axes>"
      ]
     },
     "metadata": {
      "needs_background": "light"
     },
     "output_type": "display_data"
    },
    {
     "data": {
      "image/png": "[encoded data removed]",
      "text/plain": [
       "<Figure size 432x288 with 1 Axes>"
      ]
     },
     "metadata": {
      "needs_background": "light"
     },
     "output_type": "display_data"
    },
    {
     "data": {
      "image/png": "[encoded data removed]",
      "text/plain": [
       "<Figure size 432x288 with 1 Axes>"
      ]
     },
     "metadata": {
      "needs_background": "light"
     },
     "output_type": "display_data"
    },
    {
     "name": "stdout",
     "output_type": "stream",
     "text": [
      "Score：12.02, True\n"
     ]
    }
   ],
   "source": [
    "def test(num):\n",
    "    print('PPO2测试中...')\n",
    "    aa=Actor()\n",
    "    cc=Critic()\n",
    "    checkpoint_aa = torch.load(\"./model/PPO2_model_actor.pth\")\n",
    "    aa.old_pi.load_state_dict(checkpoint_aa['net'])\n",
    "    checkpoint_cc = torch.load(\"./model/PPO2_model_critic.pth\")\n",
    "    cc.critic_v.load_state_dict(checkpoint_cc['net'])\n",
    "    for j in range(num):\n",
    "        state = env.reset()\n",
    "        total_rewards = 0\n",
    "\n",
    "        for timestep in range(EP_LEN):\n",
    "            # env.render()\n",
    "            env.draw_maze()\n",
    "            action, action_logprob = aa.choose_action(state)\n",
    "            # env.show_action(action)\n",
    "            new_state, reward, done, info = env.step(action)  # 执行动作\n",
    "            total_rewards += reward\n",
    "            state = new_state\n",
    "            if(done):\n",
    "                break\n",
    "        print(f\"Score：{round(total_rewards,2)}, {done}\")\n",
    "    env.close()\n",
    "test(1)"
   ]
  },
  {
   "cell_type": "code",
   "execution_count": null,
   "id": "victorian-comparative",
   "metadata": {},
   "outputs": [],
   "source": []
  },
  {
   "cell_type": "code",
   "execution_count": 18,
   "id": "divine-welding",
   "metadata": {},
   "outputs": [
    {
     "name": "stdout",
     "output_type": "stream",
     "text": [
      "<class 'numpy.ndarray'>\n"
     ]
    }
   ],
   "source": [
    "print(type(np.array([1.1], dtype='float64')))"
   ]
  },
  {
   "cell_type": "code",
   "execution_count": 19,
   "id": "lined-habitat",
   "metadata": {},
   "outputs": [
    {
     "data": {
      "text/plain": [
       "-0.48409809683721594"
      ]
     },
     "execution_count": 19,
     "metadata": {},
     "output_type": "execute_result"
    }
   ],
   "source": [
    "import random\n",
    "random.uniform(-1,1)"
   ]
  },
  {
   "cell_type": "code",
   "execution_count": 15,
   "id": "willing-optics",
   "metadata": {},
   "outputs": [
    {
     "name": "stdout",
     "output_type": "stream",
     "text": [
      "State: (5, 5, 1, 0, 4, 2)\n"
     ]
    },
    {
     "data": {
      "image/png": "[encoded data removed]",
      "text/plain": [
       "<Figure size 432x288 with 1 Axes>"
      ]
     },
     "metadata": {
      "needs_background": "light"
     },
     "output_type": "display_data"
    },
    {
     "name": "stdout",
     "output_type": "stream",
     "text": [
      "[('^', 3)]\n",
      "0.13700000000000018\n",
      "[('<', 1)]\n",
      "0.039000000000000055\n",
      "[('v', 3)]\n",
      "-0.16299999999999984\n",
      "[('<', 0)]\n",
      "-1.01\n",
      "[('>', 1)]\n",
      "-0.06099999999999994\n",
      "[('>', 0)]\n",
      "-1.01\n",
      "[('<', 2)]\n",
      "0.08800000000000012\n",
      "[('>', 3)]\n",
      "-0.16299999999999984\n",
      "[('v', 0)]\n",
      "-1.01\n",
      "[('<', 3)]\n",
      "0.13700000000000018\n",
      "[('^', 0)]\n",
      "-1.01\n",
      "[('<', 0)]\n",
      "-1.01\n",
      "[('>', 4)]\n",
      "-0.21399999999999977\n",
      "[('<', 3)]\n",
      "0.13700000000000018\n",
      "[('>', 3)]\n",
      "-0.16299999999999984\n",
      "[('^', 1)]\n",
      "0.039000000000000055\n",
      "[('<', 4)]\n",
      "0.18600000000000022\n",
      "[('<', 0)]\n",
      "-1.01\n",
      "[('>', 2)]\n",
      "-0.11199999999999989\n",
      "[('v', 0)]\n",
      "-1.01\n",
      "[('>', 0)]\n",
      "-1.01\n",
      "[('^', 3)]\n",
      "0.03700000000000017\n",
      "[('v', 1)]\n",
      "0.039000000000000055\n",
      "[('>', 0)]\n",
      "-1.01\n",
      "[('<', 2)]\n",
      "0.039000000000000055\n",
      "[('v', 1)]\n",
      "-0.06099999999999994\n",
      "[('<', 0)]\n",
      "-1.01\n",
      "[('<', 0)]\n",
      "-1.01\n",
      "[('<', 0)]\n",
      "-1.01\n",
      "[('^', 2)]\n",
      "-0.011999999999999886\n",
      "[('<', 0)]\n",
      "-1.01\n",
      "[('^', 0)]\n",
      "-1.01\n",
      "[('>', 2)]\n",
      "-0.011999999999999886\n",
      "[('>', 1)]\n",
      "-0.06099999999999994\n",
      "[('<', 2)]\n",
      "0.08800000000000012\n",
      "[('v', 3)]\n",
      "61.03799999999999\n",
      "[('<', 0)]\n",
      "-1.01\n",
      "[('>', 3)]\n",
      "-0.013000000000010914\n",
      "[('^', 3)]\n",
      "-0.013000000000010914\n",
      "[('>', 0)]\n",
      "-1.01\n",
      "[('>', 0)]\n",
      "-1.01\n",
      "[('v', 2)]\n",
      "-0.012000000000007276\n",
      "[('v', 2)]\n",
      "-0.012000000000007276\n",
      "[('^', 0)]\n",
      "-1.01\n",
      "[('>', 0)]\n",
      "-1.01\n",
      "[('v', 0)]\n",
      "-1.01\n",
      "[('>', 0)]\n",
      "-1.01\n",
      "[('<', 1)]\n",
      "-0.011000000000003639\n",
      "[('>', 1)]\n",
      "-0.011000000000003639\n",
      "[('v', 0)]\n",
      "-1.01\n",
      "[('^', 0)]\n",
      "-1.01\n",
      "[('^', 2)]\n",
      "-0.012000000000007276\n",
      "[('^', 2)]\n",
      "-0.012000000000007276\n",
      "[('v', 1)]\n",
      "-0.011000000000003639\n",
      "[('<', 4)]\n",
      "-0.014000000000014551\n",
      "[('<', 0)]\n",
      "-1.01\n",
      "[('<', 0)]\n",
      "-1.01\n",
      "[('v', 3)]\n",
      "-0.013000000000010914\n",
      "[('v', 0)]\n",
      "-1.01\n",
      "[('<', 0)]\n",
      "-1.01\n",
      "[('^', 4)]\n",
      "-0.014000000000014551\n",
      "[('<', 0)]\n",
      "-1.01\n",
      "[('>', 1)]\n",
      "-0.011000000000003639\n",
      "[('<', 1)]\n",
      "-0.011000000000003639\n",
      "[('v', 2)]\n",
      "-0.012000000000007276\n",
      "[('v', 2)]\n",
      "-0.012000000000007276\n",
      "[('^', 2)]\n",
      "-0.012000000000007276\n",
      "[('>', 1)]\n",
      "-0.011000000000003639\n",
      "[('v', 0)]\n",
      "-1.01\n",
      "[('<', 1)]\n",
      "-0.011000000000003639\n",
      "[('v', 2)]\n",
      "-0.012000000000007276\n",
      "[('^', 2)]\n",
      "-0.012000000000007276\n",
      "[('>', 0)]\n",
      "-1.01\n",
      "[('>', 1)]\n",
      "-0.011000000000003639\n",
      "[('^', 0)]\n",
      "-1.01\n",
      "[('^', 1)]\n",
      "-0.011000000000003639\n",
      "[('<', 1)]\n",
      "-0.011000000000003639\n",
      "[('<', 0)]\n",
      "-1.01\n",
      "[('^', 1)]\n",
      "-0.011000000000003639\n",
      "[('>', 0)]\n",
      "-1.01\n",
      "[('<', 0)]\n",
      "-1.01\n",
      "[('<', 0)]\n",
      "-1.01\n",
      "[('v', 3)]\n",
      "-0.013000000000010914\n",
      "[('<', 0)]\n",
      "-1.01\n",
      "[('v', 1)]\n",
      "-0.011000000000003639\n",
      "[('^', 1)]\n",
      "-0.011000000000003639\n",
      "[('^', 1)]\n",
      "-0.011000000000003639\n",
      "[('>', 2)]\n",
      "-0.012000000000007276\n",
      "[('>', 1)]\n",
      "-0.011000000000003639\n",
      "[('>', 0)]\n",
      "-1.01\n",
      "[('^', 2)]\n",
      "-0.012000000000007276\n",
      "[('^', 0)]\n",
      "-1.01\n",
      "[('>', 0)]\n",
      "-1.01\n",
      "[('v', 4)]\n",
      "-0.014000000000014551\n",
      "[('<', 1)]\n",
      "-0.011000000000003639\n",
      "[('^', 3)]\n",
      "-0.013000000000010914\n",
      "[('<', 1)]\n",
      "-0.011000000000003639\n",
      "[('<', 0)]\n",
      "-1.01\n",
      "[('<', 1)]\n",
      "-0.011000000000003639\n",
      "[('^', 0)]\n",
      "-1.01\n"
     ]
    }
   ],
   "source": [
    "from MazeEnv import MazeEnv\n",
    "\n",
    "maze = MazeEnv(5, 5)\n",
    "# for i in range(10):\n",
    "print(\"State:\", maze.get_state())\n",
    "maze.draw_maze()\n",
    "for i in range(100):\n",
    "    action = maze.random_action()\n",
    "    maze.show_action(action)\n",
    "    next_state, reward, done, info  = maze.step(action)\n",
    "    print(reward)\n",
    "    # print(reward)\n",
    "    # print(\"Action:\", action)\n",
    "    # maze.draw_maze()"
   ]
  },
  {
   "cell_type": "code",
   "execution_count": 29,
   "id": "affecting-springfield",
   "metadata": {},
   "outputs": [
    {
     "data": {
      "text/plain": [
       "[3, 2, 1]"
      ]
     },
     "execution_count": 29,
     "metadata": {},
     "output_type": "execute_result"
    }
   ],
   "source": [
    "x=[1,2,3]\n",
    "x[::-1]"
   ]
  },
  {
   "cell_type": "code",
   "execution_count": null,
   "id": "naked-upgrade",
   "metadata": {},
   "outputs": [],
   "source": []
  }
 ],
 "metadata": {
  "kernelspec": {
   "display_name": "Python 3",
   "language": "python",
   "name": "python3"
  },
  "language_info": {
   "codemirror_mode": {
    "name": "ipython",
    "version": 3
   },
   "file_extension": ".py",
   "mimetype": "text/x-python",
   "name": "python",
   "nbconvert_exporter": "python",
   "pygments_lexer": "ipython3",
   "version": "3.6.9"
  }
 },
 "nbformat": 4,
 "nbformat_minor": 5
}
