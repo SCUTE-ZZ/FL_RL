{
 "cells": [
  {
   "cell_type": "code",
   "execution_count": 3,
   "id": "8d28e813-5310-4015-bb52-fedc9867fbe6",
   "metadata": {},
   "outputs": [
    {
     "name": "stdout",
     "output_type": "stream",
     "text": [
      "State: (5, 5, 1, 2, -1, -1, 0, 2, 0, 3)\n"
     ]
    },
    {
     "data": {
      "image/png": "[encoded data removed]",
      "text/plain": [
       "<Figure size 432x288 with 1 Axes>"
      ]
     },
     "metadata": {
      "needs_background": "light"
     },
     "output_type": "display_data"
    }
   ],
   "source": [
    "from MazeEnv import MazeEnv\n",
    "\n",
    "maze = MazeEnv(5, 5)\n",
    "# for i in range(10):\n",
    "print(\"State:\", maze.get_state())\n",
    "maze.draw_maze()\n",
    "for i in range(100):\n",
    "    action = maze.random_action()\n",
    "    # maze.show_action(action)\n",
    "    maze.step(action)\n",
    "    \n",
    "    # print(\"Action:\", action)\n",
    "    # maze.draw_maze()"
   ]
  },
  {
   "cell_type": "code",
   "execution_count": 37,
   "id": "f57b712c-d90f-4300-bc9c-891ea7b4d489",
   "metadata": {
    "tags": []
   },
   "outputs": [
    {
     "name": "stdout",
     "output_type": "stream",
     "text": [
      "训练参数如下：\n",
      "================================================================================\n",
      "        参数名         \t        参数值         \t        参数类型        \n",
      "     algo_name      \t        DDPG        \t   <class 'str'>    \n",
      "      env_name      \t    Pendulum-v1     \t   <class 'str'>    \n",
      "     train_eps      \t        300         \t   <class 'int'>    \n",
      "      test_eps      \t        100         \t   <class 'int'>    \n",
      "     max_steps      \t        100         \t   <class 'int'>    \n",
      "       gamma        \t        0.99        \t  <class 'float'>   \n",
      "     critic_lr      \t       0.001        \t  <class 'float'>   \n",
      "      actor_lr      \t       0.0001       \t  <class 'float'>   \n",
      "  memory_capacity   \t        8000        \t   <class 'int'>    \n",
      "     batch_size     \t        128         \t   <class 'int'>    \n",
      "   target_update    \t         2          \t   <class 'int'>    \n",
      "        tau         \t        0.01        \t  <class 'float'>   \n",
      " critic_hidden_dim  \t        256         \t   <class 'int'>    \n",
      "  actor_hidden_dim  \t        256         \t   <class 'int'>    \n",
      "       device       \t        cpu         \t   <class 'str'>    \n",
      "        seed        \t         1          \t   <class 'int'>    \n",
      "================================================================================\n",
      "开始训练！\n"
     ]
    },
    {
     "name": "stderr",
     "output_type": "stream",
     "text": [
      " 17%|█▋        | 34/200 [00:00<00:00, 330.96it/s]"
     ]
    },
    {
     "name": "stdout",
     "output_type": "stream",
     "text": [
      "train done!!!\n",
      "train done!!!\n",
      "train done!!!\n"
     ]
    },
    {
     "name": "stderr",
     "output_type": "stream",
     "text": [
      " 38%|███▊      | 76/200 [00:00<00:00, 378.10it/s]"
     ]
    },
    {
     "name": "stdout",
     "output_type": "stream",
     "text": [
      "回合：100/200，奖励：979.00\n",
      "train done!!!\n"
     ]
    },
    {
     "name": "stderr",
     "output_type": "stream",
     "text": [
      " 57%|█████▋    | 114/200 [00:03<00:03, 26.22it/s]"
     ]
    },
    {
     "name": "stdout",
     "output_type": "stream",
     "text": [
      "train done!!!\n",
      "train done!!!\n",
      "train done!!!\n",
      "train done!!!\n"
     ]
    },
    {
     "name": "stderr",
     "output_type": "stream",
     "text": [
      " 68%|██████▊   | 136/200 [00:08<00:06, 10.62it/s]"
     ]
    },
    {
     "name": "stdout",
     "output_type": "stream",
     "text": [
      "train done!!!\n"
     ]
    },
    {
     "name": "stderr",
     "output_type": "stream",
     "text": [
      " 90%|█████████ | 181/200 [00:20<00:04,  4.18it/s]"
     ]
    },
    {
     "name": "stdout",
     "output_type": "stream",
     "text": [
      "train done!!!\n"
     ]
    },
    {
     "name": "stderr",
     "output_type": "stream",
     "text": [
      "100%|██████████| 200/200 [00:26<00:00,  7.48it/s]"
     ]
    },
    {
     "name": "stdout",
     "output_type": "stream",
     "text": [
      "回合：200/200，奖励：-15.00\n",
      "完成训练！\n"
     ]
    },
    {
     "name": "stderr",
     "output_type": "stream",
     "text": [
      "\n"
     ]
    }
   ],
   "source": [
    "import torch\n",
    "import torch.nn as nn\n",
    "import torch.nn.functional as F\n",
    "\n",
    "from collections import deque\n",
    "import random\n",
    "\n",
    "import gym\n",
    "import os\n",
    "import torch\n",
    "import numpy as np\n",
    "import random\n",
    "\n",
    "from MazeEnv import MazeEnv\n",
    "\n",
    "import argparse\n",
    "import matplotlib.pyplot as plt\n",
    "import seaborn as sns\n",
    "\n",
    "import torch.optim as optim\n",
    "from tqdm import tqdm\n",
    "\n",
    "class Actor(nn.Module):\n",
    "    def __init__(self, n_states, n_actions, hidden_dim=1024, init_w=3e-3):\n",
    "        super(Actor, self).__init__()\n",
    "        self.linear1 = nn.Linear(n_states, hidden_dim)\n",
    "        self.linear2 = nn.Linear(hidden_dim, hidden_dim)\n",
    "        self.linear3 = nn.Linear(hidden_dim, n_actions)\n",
    "\n",
    "        self.linear3.weight.data.uniform_(-init_w, init_w)\n",
    "        self.linear3.bias.data.uniform_(-init_w, init_w)\n",
    "\n",
    "    def forward(self, x):\n",
    "        x = F.relu(self.linear1(x))\n",
    "        x = F.relu(self.linear2(x))\n",
    "        # x = torch.tanh(self.linear3(x))\n",
    "        x = torch.sigmoid(self.linear3(x))\n",
    "        return x\n",
    "\n",
    "\n",
    "class Critic(nn.Module):\n",
    "    def __init__(self, n_states, n_actions, hidden_dim=1024, init_w=3e-3):\n",
    "        super(Critic, self).__init__()\n",
    "\n",
    "        self.linear1 = nn.Linear(n_states + n_actions, hidden_dim)\n",
    "        self.linear2 = nn.Linear(hidden_dim, hidden_dim)\n",
    "        self.linear3 = nn.Linear(hidden_dim, 1)\n",
    "        # 随机初始化为较小的值\n",
    "        self.linear3.weight.data.uniform_(-init_w, init_w)\n",
    "        self.linear3.bias.data.uniform_(-init_w, init_w)\n",
    "\n",
    "    def forward(self, state, action):\n",
    "        # 按维数1拼接\n",
    "        x = torch.cat([state, action], 1)\n",
    "        x = F.relu(self.linear1(x))\n",
    "        x = F.relu(self.linear2(x))\n",
    "        x = self.linear3(x)\n",
    "        return x\n",
    "    \n",
    "class DDPG:\n",
    "    def __init__(self, models, memories, cfg):\n",
    "        self.device = torch.device(cfg['device'])\n",
    "        self.critic = models['critic'].to(self.device)\n",
    "        self.target_critic = models['critic'].to(self.device)\n",
    "        self.actor = models['actor'].to(self.device)\n",
    "        self.target_actor = models['actor'].to(self.device)\n",
    "\n",
    "        # 复制参数到目标网络\n",
    "        for target_param, param in zip(self.target_critic.parameters(), self.critic.parameters()):\n",
    "            target_param.data.copy_(param.data)\n",
    "        for target_param, param in zip(self.target_actor.parameters(), self.actor.parameters()):\n",
    "            target_param.data.copy_(param.data)\n",
    "        self.critic_optimizer = optim.Adam(\n",
    "            self.critic.parameters(),  lr=cfg['critic_lr'])\n",
    "        self.actor_optimizer = optim.Adam(\n",
    "            self.actor.parameters(), lr=cfg['actor_lr'])\n",
    "        self.memory = memories['memory']\n",
    "        self.batch_size = cfg['batch_size']\n",
    "        self.gamma = cfg['gamma']\n",
    "        self.tau = cfg['tau']  # 软更新参数\n",
    "\n",
    "    def sample_action(self, state):\n",
    "        state = torch.FloatTensor(state).unsqueeze(0).to(self.device)\n",
    "        action = self.actor(state)\n",
    "        return action.detach().cpu().numpy()[0]\n",
    "\n",
    "    @torch.no_grad()\n",
    "    def predict_action(self, state):\n",
    "        ''' 用于预测，不需要计算梯度\n",
    "        '''\n",
    "        state = torch.FloatTensor(state).unsqueeze(0).to(self.device)\n",
    "        action = self.actor(state)\n",
    "        return action.cpu().numpy()[0]\n",
    "\n",
    "    def update(self):\n",
    "        if len(self.memory) < self.batch_size:  # 当memory中不满足一个批量时，不更新策略\n",
    "            return\n",
    "        # 从经验回放中中随机采样一个批量的transition\n",
    "        state, action, reward, next_state, done = self.memory.sample(\n",
    "            self.batch_size)\n",
    "        # 转变为张量\n",
    "        state = torch.FloatTensor(np.array(state)).to(self.device)\n",
    "        next_state = torch.FloatTensor(np.array(next_state)).to(self.device)\n",
    "        action = torch.FloatTensor(np.array(action)).to(self.device)\n",
    "        reward = torch.FloatTensor(reward).unsqueeze(1).to(self.device)\n",
    "        done = torch.FloatTensor(np.float32(done)).unsqueeze(1).to(self.device)\n",
    "        # 注意看伪代码，这里的actor损失就是对应策略即actor输出的action下对应critic值的负均值\n",
    "        actor_loss = self.critic(state, self.actor(state))\n",
    "        actor_loss = - actor_loss.mean()\n",
    "\n",
    "        next_action = self.target_actor(next_state)\n",
    "        target_value = self.target_critic(next_state, next_action.detach())\n",
    "        # 这里的expected_value就是伪代码中间的y_i\n",
    "        expected_value = reward + (1.0 - done) * self.gamma * target_value\n",
    "        expected_value = torch.clamp(expected_value, -np.inf, np.inf)\n",
    "\n",
    "        actual_value = self.critic(state, action)\n",
    "        critic_loss = nn.MSELoss()(actual_value, expected_value.detach())\n",
    "\n",
    "        self.actor_optimizer.zero_grad()\n",
    "        actor_loss.backward()\n",
    "        self.actor_optimizer.step()\n",
    "        self.critic_optimizer.zero_grad()\n",
    "        critic_loss.backward()\n",
    "        self.critic_optimizer.step()\n",
    "        # 各自目标网络的参数软更新\n",
    "        for target_param, param in zip(self.target_critic.parameters(), self.critic.parameters()):\n",
    "            target_param.data.copy_(\n",
    "                target_param.data * (1.0 - self.tau) +\n",
    "                param.data * self.tau\n",
    "            )\n",
    "        for target_param, param in zip(self.target_actor.parameters(), self.actor.parameters()):\n",
    "            target_param.data.copy_(\n",
    "                target_param.data * (1.0 - self.tau) +\n",
    "                param.data * self.tau\n",
    "                )\n",
    "            \n",
    "class ReplayBuffer:\n",
    "    def __init__(self, capacity: int) -> None:\n",
    "        self.capacity = capacity\n",
    "        self.buffer = deque(maxlen=self.capacity)\n",
    "\n",
    "    def push(self, transitions):\n",
    "        '''_summary_\n",
    "        Args:\n",
    "            trainsitions (tuple): _description_\n",
    "        '''\n",
    "        self.buffer.append(transitions)\n",
    "\n",
    "    def sample(self, batch_size: int, sequential: bool = False):\n",
    "        if batch_size > len(self.buffer):\n",
    "            batch_size = len(self.buffer)\n",
    "        if sequential:  # sequential sampling\n",
    "            rand = random.randint(0, len(self.buffer) - batch_size)\n",
    "            batch = [self.buffer[i] for i in range(rand, rand + batch_size)]\n",
    "            return zip(*batch)\n",
    "        else:\n",
    "            batch = random.sample(self.buffer, batch_size)\n",
    "            return zip(*batch)\n",
    "\n",
    "    def clear(self):\n",
    "        self.buffer.clear()\n",
    "\n",
    "    def __len__(self):\n",
    "        return len(self.buffer)\n",
    "\n",
    "def all_seed(env, seed=1):\n",
    "    ''' 万能的seed函数\n",
    "    '''\n",
    "    # env.seed(seed)  # env config\n",
    "    np.random.seed(seed)\n",
    "    random.seed(seed)\n",
    "    torch.manual_seed(seed)  # config for CPU\n",
    "    torch.cuda.manual_seed(seed)  # config for GPU\n",
    "    os.environ['PYTHONHASHSEED'] = str(seed)  # config for python scripts\n",
    "    # config for cudnn\n",
    "    torch.backends.cudnn.deterministic = True\n",
    "    torch.backends.cudnn.benchmark = False\n",
    "    torch.backends.cudnn.enabled = False\n",
    "    \n",
    "def env_agent_config(cfg):\n",
    "#     env = NormalizedActions(gym.make(cfg['env_name']))  # 装饰action噪声\n",
    "    env = MazeEnv(3, 3)\n",
    "    if cfg['seed'] != 0:\n",
    "        all_seed(env, seed=cfg['seed'])\n",
    "    n_states = env.get_n_states()\n",
    "    n_actions = env.get_n_actions()\n",
    "    # env.draw_maze()\n",
    "#     n_states = env.observation_space.shape[0]\n",
    "#     n_actions = env.action_space.shape[0]\n",
    "    # 更新n_states和n_actions到cfg参数中\n",
    "    cfg.update({\"n_states\": n_states, \"n_actions\": n_actions})\n",
    "    models = {\"actor\": Actor(n_states, n_actions, hidden_dim=cfg['actor_hidden_dim']), \"critic\": Critic(\n",
    "        n_states, n_actions, hidden_dim=cfg['critic_hidden_dim'])}\n",
    "    memories = {\"memory\": ReplayBuffer(cfg['memory_capacity'])}\n",
    "    agent = DDPG(models, memories, cfg)\n",
    "    return env, agent\n",
    "\n",
    "def get_args():\n",
    "    \"\"\" 超参数\n",
    "    \"\"\"\n",
    "    parser = argparse.ArgumentParser(description=\"hyperparameters\")\n",
    "    parser.add_argument('--algo_name', default='DDPG',\n",
    "                        type=str, help=\"name of algorithm\")\n",
    "    parser.add_argument('--env_name', default='Pendulum-v1',\n",
    "                        type=str, help=\"name of environment\")\n",
    "    parser.add_argument('--train_eps', default=300,\n",
    "                        type=int, help=\"episodes of training\")\n",
    "    parser.add_argument('--test_eps', default=100, type=int,\n",
    "                        help=\"episodes of testing\")\n",
    "    parser.add_argument('--max_steps', default=100, type=int,\n",
    "                        help=\"steps per episode, much larger value can simulate infinite steps\")\n",
    "    parser.add_argument('--gamma', default=0.99,\n",
    "                        type=float, help=\"discounted factor\")\n",
    "    parser.add_argument('--critic_lr', default=1e-3,\n",
    "                        type=float, help=\"learning rate of critic\")\n",
    "    parser.add_argument('--actor_lr', default=1e-4,\n",
    "                        type=float, help=\"learning rate of actor\")\n",
    "    parser.add_argument('--memory_capacity', default=8000,\n",
    "                        type=int, help=\"memory capacity\")\n",
    "    parser.add_argument('--batch_size', default=128, type=int)\n",
    "    parser.add_argument('--target_update', default=2, type=int)\n",
    "    parser.add_argument('--tau', default=1e-2, type=float)\n",
    "    parser.add_argument('--critic_hidden_dim', default=256, type=int)\n",
    "    parser.add_argument('--actor_hidden_dim', default=256, type=int)\n",
    "    parser.add_argument('--device', default='cpu',\n",
    "                        type=str, help=\"cpu or cuda\")\n",
    "    parser.add_argument('--seed', default=1, type=int, help=\"random seed\")\n",
    "    args = parser.parse_args([])\n",
    "    args = {**vars(args)}  # 将args转换为字典\n",
    "    # 打印参数\n",
    "    print(\"训练参数如下：\")\n",
    "    print(''.join(['=']*80))\n",
    "    tplt = \"{:^20}\\t{:^20}\\t{:^20}\"\n",
    "    print(tplt.format(\"参数名\", \"参数值\", \"参数类型\"))\n",
    "    for k, v in args.items():\n",
    "        print(tplt.format(k, v, str(type(v))))\n",
    "    print(''.join(['=']*80))\n",
    "    return args\n",
    "\n",
    "def smooth(data, weight=0.9):\n",
    "    '''用于平滑曲线，类似于Tensorboard中的smooth\n",
    "\n",
    "    Args:\n",
    "        data (List):输入数据\n",
    "        weight (Float): 平滑权重，处于0-1之间，数值越高说明越平滑，一般取0.9\n",
    "\n",
    "    Returns:\n",
    "        smoothed (List): 平滑后的数据\n",
    "    '''\n",
    "    last = data[0]  # First value in the plot (first timestep)\n",
    "    smoothed = list()\n",
    "    for point in data:\n",
    "        smoothed_val = last * weight + (1 - weight) * point  # 计算平滑值\n",
    "        smoothed.append(smoothed_val)\n",
    "        last = smoothed_val\n",
    "    return smoothed\n",
    "\n",
    "\n",
    "def plot_rewards(rewards, cfg, path=None, tag='train'):\n",
    "    sns.set()\n",
    "    plt.figure()  # 创建一个图形实例，方便同时多画几个图\n",
    "    plt.title(\n",
    "        f\"{tag}ing curve on {cfg['device']} of {cfg['algo_name']} for {cfg['env_name']}\")\n",
    "    plt.xlabel('epsiodes')\n",
    "    plt.plot(rewards, label='rewards')\n",
    "    plt.plot(smooth(rewards), label='smoothed')\n",
    "    plt.legend()\n",
    "\n",
    "class OUNoise(object):\n",
    "    '''Ornstein–Uhlenbeck噪声\n",
    "    '''\n",
    "    def __init__(self, n_actions, mu=0.0, theta=0.15, max_sigma=0.3, min_sigma=0.3, decay_period=100000):\n",
    "        self.mu           = mu # OU噪声的参数\n",
    "        self.theta        = theta # OU噪声的参数\n",
    "        self.sigma        = max_sigma # OU噪声的参数\n",
    "        self.max_sigma    = max_sigma\n",
    "        self.min_sigma    = min_sigma\n",
    "        self.decay_period = decay_period\n",
    "        self.n_actions   = n_actions\n",
    "        self.low          = 0\n",
    "        self.high         = 0.99999\n",
    "        self.reset()\n",
    "    \n",
    "    def reset(self):\n",
    "        self.obs = np.ones(self.n_actions) * self.mu\n",
    "    \n",
    "    def evolve_obs(self):\n",
    "        x  = self.obs\n",
    "        dx = self.theta * (self.mu - x) + self.sigma * np.random.randn(self.n_actions)\n",
    "        self.obs = x + dx\n",
    "        # print(\"self.obs\", self.obs)\n",
    "        return self.obs\n",
    "    \n",
    "    def get_action(self, action, t=0):\n",
    "        ou_obs = self.evolve_obs()\n",
    "        self.sigma = self.max_sigma - (self.max_sigma - self.min_sigma) * min(1.0, t / self.decay_period) # sigma会逐渐衰减\n",
    "        return np.clip(action + ou_obs, self.low, self.high) # 动作加上噪声后进行剪切\n",
    "\n",
    "def train(cfg, env, agent):\n",
    "    print(\"开始训练！\")\n",
    "    ou_noise = OUNoise(env.get_n_actions())  # 动作噪声\n",
    "    rewards = [] # 记录所有回合的奖励\n",
    "    for i_ep in tqdm(range(cfg['train_eps'])):\n",
    "        state = env.reset()\n",
    "        ou_noise.reset()\n",
    "        ep_reward = 0\n",
    "        for i_step in range(cfg['max_steps']):\n",
    "            action = agent.sample_action(state)\n",
    "            # print(1,action)\n",
    "            action = ou_noise.get_action(action, i_step+1)\n",
    "            # print(2,action)\n",
    "            next_state, reward, done = env.step(action)\n",
    "            ep_reward += reward\n",
    "            agent.memory.push((state, action, reward, next_state, done))\n",
    "            agent.update() # 每次都更新？？？\n",
    "            state = next_state\n",
    "            if done:\n",
    "                print(\"train done!!!\")\n",
    "                break\n",
    "        if (i_ep+1)%100 == 0:\n",
    "            print(f\"回合：{i_ep+1}/{cfg['train_eps']}，奖励：{ep_reward:.2f}\")\n",
    "            # test(cfg, env, agent)\n",
    "        rewards.append(ep_reward)\n",
    "    print(\"完成训练！\")\n",
    "    return {'rewards':rewards}\n",
    "\n",
    "def test(cfg, env, agent):\n",
    "    print(\"开始测试！\")\n",
    "    rewards = [] # 记录所有回合的奖励\n",
    "    for i_ep in range(cfg['test_eps']):\n",
    "        state = env.reset() \n",
    "        ep_reward = 0\n",
    "        for i_step in range(cfg['max_steps']):\n",
    "            action = agent.predict_action(state)\n",
    "            env.draw_maze()\n",
    "            next_state, reward, done = env.step(action)\n",
    "            ep_reward += reward\n",
    "            state = next_state\n",
    "            if done:\n",
    "                print(\"test done!!!\")\n",
    "                break\n",
    "        rewards.append(ep_reward)\n",
    "        print(f\"回合：{i_ep+1}/{cfg['test_eps']}，奖励：{ep_reward:.2f}\")\n",
    "    print(\"完成测试！\")\n",
    "    return {'rewards':rewards}\n",
    "\n",
    "# 获取参数\n",
    "cfg = get_args()\n",
    "cfg['max_steps'] = 10\n",
    "cfg['train_eps'] = 200\n",
    "cfg['test_eps'] = 1\n",
    "cfg['seed'] = 2\n",
    "cfg['batch_size'] = 1024\n",
    "# 训练\n",
    "env, agent = env_agent_config(cfg)\n",
    "res_dic = train(cfg, env, agent)\n",
    "\n",
    "# plot_rewards(res_dic['rewards'], cfg, tag=\"train\")\n",
    "# # 测试\n",
    "# res_dic = test(cfg, env, agent)\n",
    "# plot_rewards(res_dic['rewards'], cfg, tag=\"test\")  # 画出结果"
   ]
  },
  {
   "cell_type": "code",
   "execution_count": null,
   "id": "b92027d7-d417-488a-a742-10552bafc7ab",
   "metadata": {
    "collapsed": true,
    "jupyter": {
     "outputs_hidden": true
    },
    "tags": []
   },
   "outputs": [],
   "source": []
  },
  {
   "cell_type": "code",
   "execution_count": 39,
   "id": "268b58dc-2f14-44ad-b32d-935481c34073",
   "metadata": {},
   "outputs": [
    {
     "name": "stdout",
     "output_type": "stream",
     "text": [
      "开始测试！\n",
      "\n",
      "======= 0 =======\n"
     ]
    },
    {
     "data": {
      "image/png": "[encoded data removed]",
      "text/plain": [
       "<Figure size 432x288 with 1 Axes>"
      ]
     },
     "metadata": {
      "needs_background": "light"
     },
     "output_type": "display_data"
    },
    {
     "name": "stdout",
     "output_type": "stream",
     "text": [
      "[1. 1. 1. 1.]\n",
      "[('>', 1), ('>', 2)]\n",
      "-21.0\n",
      "\n",
      "======= 1 =======\n"
     ]
    },
    {
     "data": {
      "image/png": "[encoded data removed]",
      "text/plain": [
       "<Figure size 432x288 with 1 Axes>"
      ]
     },
     "metadata": {
      "needs_background": "light"
     },
     "output_type": "display_data"
    },
    {
     "name": "stdout",
     "output_type": "stream",
     "text": [
      "[1. 1. 1. 1.]\n",
      "[('>', 1), ('>', 1)]\n",
      "-21.0\n",
      "\n",
      "======= 2 =======\n"
     ]
    },
    {
     "data": {
      "image/png": "[encoded data removed]",
      "text/plain": [
       "<Figure size 432x288 with 1 Axes>"
      ]
     },
     "metadata": {
      "needs_background": "light"
     },
     "output_type": "display_data"
    },
    {
     "name": "stdout",
     "output_type": "stream",
     "text": [
      "[1. 1. 1. 1.]\n",
      "[('>', 1), ('>', 1)]\n",
      "-21.0\n",
      "\n",
      "======= 3 =======\n"
     ]
    },
    {
     "data": {
      "image/png": "[encoded data removed]",
      "text/plain": [
       "<Figure size 432x288 with 1 Axes>"
      ]
     },
     "metadata": {
      "needs_background": "light"
     },
     "output_type": "display_data"
    },
    {
     "name": "stdout",
     "output_type": "stream",
     "text": [
      "[1. 1. 1. 1.]\n",
      "[('>', 1), ('>', 1)]\n",
      "-21.0\n",
      "\n",
      "======= 4 =======\n"
     ]
    },
    {
     "data": {
      "image/png": "[encoded data removed]",
      "text/plain": [
       "<Figure size 432x288 with 1 Axes>"
      ]
     },
     "metadata": {
      "needs_background": "light"
     },
     "output_type": "display_data"
    },
    {
     "name": "stdout",
     "output_type": "stream",
     "text": [
      "[1. 1. 1. 1.]\n",
      "[('>', 1), ('>', 1)]\n",
      "-21.0\n",
      "\n",
      "======= 5 =======\n"
     ]
    },
    {
     "data": {
      "image/png": "[encoded data removed]",
      "text/plain": [
       "<Figure size 432x288 with 1 Axes>"
      ]
     },
     "metadata": {
      "needs_background": "light"
     },
     "output_type": "display_data"
    },
    {
     "name": "stdout",
     "output_type": "stream",
     "text": [
      "[1. 1. 1. 1.]\n",
      "[('>', 1), ('>', 1)]\n",
      "-21.0\n",
      "\n",
      "======= 6 =======\n"
     ]
    },
    {
     "data": {
      "image/png": "[encoded data removed]",
      "text/plain": [
       "<Figure size 432x288 with 1 Axes>"
      ]
     },
     "metadata": {
      "needs_background": "light"
     },
     "output_type": "display_data"
    },
    {
     "name": "stdout",
     "output_type": "stream",
     "text": [
      "[1. 1. 1. 1.]\n",
      "[('>', 1), ('>', 1)]\n",
      "-21.0\n",
      "\n",
      "======= 7 =======\n"
     ]
    },
    {
     "data": {
      "image/png": "[encoded data removed]",
      "text/plain": [
       "<Figure size 432x288 with 1 Axes>"
      ]
     },
     "metadata": {
      "needs_background": "light"
     },
     "output_type": "display_data"
    },
    {
     "name": "stdout",
     "output_type": "stream",
     "text": [
      "[1. 1. 1. 1.]\n",
      "[('>', 1), ('>', 1)]\n",
      "-21.0\n",
      "\n",
      "======= 8 =======\n"
     ]
    },
    {
     "data": {
      "image/png": "[encoded data removed]",
      "text/plain": [
       "<Figure size 432x288 with 1 Axes>"
      ]
     },
     "metadata": {
      "needs_background": "light"
     },
     "output_type": "display_data"
    },
    {
     "name": "stdout",
     "output_type": "stream",
     "text": [
      "[1. 1. 1. 1.]\n",
      "[('>', 1), ('>', 1)]\n",
      "-21.0\n",
      "\n",
      "======= 9 =======\n"
     ]
    },
    {
     "data": {
      "image/png": "[encoded data removed]",
      "text/plain": [
       "<Figure size 432x288 with 1 Axes>"
      ]
     },
     "metadata": {
      "needs_background": "light"
     },
     "output_type": "display_data"
    },
    {
     "name": "stdout",
     "output_type": "stream",
     "text": [
      "[1. 1. 1. 1.]\n",
      "[('>', 1), ('>', 1)]\n",
      "-21.0\n",
      "回合：1/1，奖励：-210.00\n",
      "完成测试！\n"
     ]
    }
   ],
   "source": [
    "cfg['max_steps'] = 10\n",
    "def test(cfg, env, agent):\n",
    "    print(\"开始测试！\")\n",
    "    rewards = [] # 记录所有回合的奖励\n",
    "    for i_ep in range(cfg['test_eps']):\n",
    "        state = env.reset() \n",
    "        ep_reward = 0\n",
    "        for i_step in range(cfg['max_steps']):\n",
    "            \n",
    "            print(\"\\n=======\",i_step,\"=======\")\n",
    "            env.draw_maze()\n",
    "            action = agent.predict_action(state)\n",
    "            print(action)\n",
    "            env.show_action(action)\n",
    "            next_state, reward, done = env.step(action)\n",
    "            \n",
    "\n",
    "            print(reward)\n",
    "            \n",
    "            ep_reward += reward\n",
    "            state = next_state\n",
    "            if done:\n",
    "                print(\"test done!!!\")\n",
    "                break\n",
    "        rewards.append(ep_reward)\n",
    "        print(f\"回合：{i_ep+1}/{cfg['test_eps']}，奖励：{ep_reward:.2f}\")\n",
    "    print(\"完成测试！\")\n",
    "    return {'rewards':rewards}\n",
    "res_dic = test(cfg, env, agent)"
   ]
  },
  {
   "cell_type": "code",
   "execution_count": null,
   "id": "b377bfb0-91db-4161-b1f1-860ab0760210",
   "metadata": {},
   "outputs": [],
   "source": []
  }
 ],
 "metadata": {
  "kernelspec": {
   "display_name": "Python 3 (ipykernel)",
   "language": "python",
   "name": "python3"
  },
  "language_info": {
   "codemirror_mode": {
    "name": "ipython",
    "version": 3
   },
   "file_extension": ".py",
   "mimetype": "text/x-python",
   "name": "python",
   "nbconvert_exporter": "python",
   "pygments_lexer": "ipython3",
   "version": "3.8.10"
  }
 },
 "nbformat": 4,
 "nbformat_minor": 5
}
